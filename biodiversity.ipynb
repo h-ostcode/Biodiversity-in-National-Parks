{
 "cells": [
  {
   "cell_type": "markdown",
   "metadata": {},
   "source": [
    "# Introduction\n",
    "\n",
    "This Biodiversity in National Parks Project aims to analyze multiple data sources to determine patterns and relationships between species conservation status and their sightings at major national parks in the United States. \n",
    "\n",
    "This project will scope, analyze, plot, and evaluate the data to provide information necessary to answer the questions below:\n",
    "\n",
    "1. What is the distribution of conservation status across species?\n",
    "2. Are certain species more likely to face endangerment than others?\n",
    "3. Is there a significant difference between species and their conservation status?\n",
    "4. What animal, if any, appears to be closest to facing exctinction at this time? What is it's distribution across parks?\n",
    "5. Is there an animal that is more prevelant than others? Does this prevelance differ across parks?\n",
    " \n",
    "Upon answering these questions, this project will address potential issues with the data and findings, as well as open discussion for improvements and future questions that can be answered with further data collection and analysis.\n",
    "\n",
    "### Data\n",
    "\n",
    "Provided by [Codecademy.com](https://www.codecademy.com/)\n",
    "1. observations.csv\n",
    "2. species_info.csv"
   ]
  },
  {
   "cell_type": "markdown",
   "metadata": {},
   "source": [
    "# Scope\n",
    "The project scope serves as a roadmap to guide the project's progress and the reader's understanding of it's goals and findings. The scope of this project has been broken down into four sections:\n",
    "1. **Goals** - Define project objectives, potential problems and the actions needed to achieve and overcome them respectfully.\n",
    "2. **Data** - Identify data and if it is relevant to achieve project goals. Address any concerns for reliability or needs for further data to augment future research.\n",
    "3. **Analysis** - Determine how data will be analyzed, including methods used and plans for validating analysis to answer questions. \n",
    "4. **Evaluation** - Review analysis to build conclusions and discuss findings. \n",
    "\n",
    "## Goals\n",
    "\n",
    "## Data\n",
    "\n",
    "## Analysis\n",
    "\n",
    "## Evaluation"
   ]
  },
  {
   "cell_type": "code",
   "execution_count": null,
   "metadata": {},
   "outputs": [],
   "source": []
  }
 ],
 "metadata": {
  "kernelspec": {
   "display_name": "Python 3 (ipykernel)",
   "language": "python",
   "name": "python3"
  },
  "language_info": {
   "codemirror_mode": {
    "name": "ipython",
    "version": 3
   },
   "file_extension": ".py",
   "mimetype": "text/x-python",
   "name": "python",
   "nbconvert_exporter": "python",
   "pygments_lexer": "ipython3",
   "version": "3.9.12"
  }
 },
 "nbformat": 4,
 "nbformat_minor": 4
}
