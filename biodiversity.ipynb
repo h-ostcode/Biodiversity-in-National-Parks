{
 "cells": [
  {
   "cell_type": "markdown",
   "metadata": {},
   "source": [
    "# Introduction\n",
    "\n",
    "This Biodiversity in National Parks Project aims to analyze multiple data sources to determine patterns and relationships between species conservation status and their sightings at major national parks in the United States. \n",
    "\n",
    "This project will scope, analyze, plot, and evaluate the data to provide information necessary to answer the questions below:\n",
    "\n",
    "1. What is the distribution of conservation status across species?\n",
    "2. Are certain species more likely to face endangerment than others?\n",
    "3. Is there a significant difference between species and their conservation status?\n",
    "4. What animal, if any, appears to be closest to facing exctinction at this time? What is it's distribution across parks?\n",
    "5. Is there an animal that is more prevelant than others? Does this prevelance differ across parks?\n",
    " \n",
    "Upon answering these questions, this project will address potential issues with the data and findings, as well as open discussion for improvements and future questions that can be answered with further data collection and analysis.\n",
    "\n",
    "### Data\n",
    "\n",
    "Provided by [Codecademy.com](https://www.codecademy.com/)\n",
    "1. observations.csv\n",
    "2. species_info.csv"
   ]
  },
  {
   "cell_type": "markdown",
   "metadata": {},
   "source": [
    "# Scope\n",
    "The project scope serves as a roadmap to guide the project's progress and the reader's understanding of it's goals and findings. The scope of this project has been broken down into four sections:\n",
    "1. **Goals** - Define project objectives, potential problems and the actions needed to achieve and overcome them respectfully.\n",
    "2. **Data** - Identify data and if it is relevant to achieve project goals. Address any concerns for reliability or needs for further data to augment future research.\n",
    "3. **Analysis** - Determine how data will be analyzed, including methods used and plans for validating analysis to answer questions. \n",
    "4. **Evaluation** - Review analysis to build conclusions and discuss findings. \n",
    "\n",
    "### Goals\n",
    "The main objective of this project is to provide insights about endagered species to the National Parks Service to aid in their efforts for biodiversity conservation. Analyst objectives include understanding the characteristics of different species/animals and their conservation status and how that compares to their distribution across the different parks.\n",
    "\n",
    "Questions this project aims to answer include:\n",
    "1. What is the distribution of conservation status across species?\n",
    "2. Are certain species more likely to face endangerment than others?\n",
    "3. Is there a significant difference between species and their conservation status?\n",
    "4. What animal, if any, appears to be closest to facing exctinction at this time? What is it's distribution across parks?\n",
    "5. Is there an animal that is more prevelant than others? Does this prevelance differ across parks?\n",
    "\n",
    "### Data\n",
    "This project includes two provided datasets. The first, observations.csv, lists the number of observations of an animal (by it's scientific name) in each national park over the last 7 days. The second, species_info.csv, includes the conservation status of different animals, both their common and scientific names, and the species they belong to. \n",
    "\n",
    "### Analysis\n",
    "Using descriptive summary statistics and visualization techniques, this section will explore the provided data to detect patterns, uncover relationships, and provide a better understanding of the data. Statistical inference will be used to determine if the values are statistically significant to support any final conclusions. \n",
    "\n",
    "Key metrics to compute include:\n",
    "1. Counts\n",
    "2. Distributions\n",
    "3. Conservation status of each species\n",
    "4. Relationships between species (if any)\n",
    "5. Observations of species in each park\n",
    "\n",
    "### Evaluation\n",
    "This section will revisit original goals and questions and compare to the final analysis to determine if our findings support our original objectives. Final conclusions and reflections will be drafted here. In addition, any concerns over accuracy or potential for augmentation and future research will be addressed. "
   ]
  },
  {
   "cell_type": "markdown",
   "metadata": {},
   "source": [
    "# Import Modules"
   ]
  },
  {
   "cell_type": "code",
   "execution_count": 1,
   "metadata": {},
   "outputs": [],
   "source": [
    "#import Python libraries and modules\n",
    "import pandas as pd\n",
    "import numpy as np\n",
    "\n",
    "from matplotlib import pyplot as plt\n",
    "import seaborn as sns\n",
    "\n",
    "from scipy.stats import chi2_contingency\n",
    "\n",
    "#inline lead to static images of your plot embedded in the notebook, \n",
    "#notebook will lead to interactive plots (see below)\n",
    "%matplotlib inline"
   ]
  },
  {
   "cell_type": "markdown",
   "metadata": {},
   "source": [
    "# Load the Data"
   ]
  },
  {
   "cell_type": "code",
   "execution_count": 2,
   "metadata": {},
   "outputs": [
    {
     "name": "stdout",
     "output_type": "stream",
     "text": [
      "            scientific_name                            park_name  observations\n",
      "0        Vicia benghalensis  Great Smoky Mountains National Park            68\n",
      "1            Neovison vison  Great Smoky Mountains National Park            77\n",
      "2         Prunus subcordata               Yosemite National Park           138\n",
      "3      Abutilon theophrasti                  Bryce National Park            84\n",
      "4  Githopsis specularioides  Great Smoky Mountains National Park            85\n",
      "\n",
      "\n",
      "  category                scientific_name  \\\n",
      "0   Mammal  Clethrionomys gapperi gapperi   \n",
      "1   Mammal                      Bos bison   \n",
      "2   Mammal                     Bos taurus   \n",
      "3   Mammal                     Ovis aries   \n",
      "4   Mammal                 Cervus elaphus   \n",
      "\n",
      "                                        common_names conservation_status  \n",
      "0                           Gapper's Red-Backed Vole                 NaN  \n",
      "1                              American Bison, Bison                 NaN  \n",
      "2  Aurochs, Aurochs, Domestic Cattle (Feral), Dom...                 NaN  \n",
      "3  Domestic Sheep, Mouflon, Red Sheep, Sheep (Feral)                 NaN  \n",
      "4                                      Wapiti Or Elk                 NaN  \n"
     ]
    }
   ],
   "source": [
    "#load two provided datasets (csv) into dataframes\n",
    "obs = pd.read_csv('observations.csv')\n",
    "species = pd.read_csv('species_info.csv')\n",
    "print(obs.head(5))\n",
    "print('\\n')\n",
    "print(species.head(5))"
   ]
  },
  {
   "cell_type": "code",
   "execution_count": 3,
   "metadata": {},
   "outputs": [
    {
     "name": "stdout",
     "output_type": "stream",
     "text": [
      "Observations: (23296, 3), Index(['scientific_name', 'park_name', 'observations'], dtype='object')\n",
      "Species: (5824, 4), Index(['category', 'scientific_name', 'common_names', 'conservation_status'], dtype='object')\n"
     ]
    }
   ],
   "source": [
    "#Data Characteristics\n",
    "print(f'Observations: {obs.shape}, {obs.columns}')\n",
    "print(f'Species: {species.shape}, {species.columns}')"
   ]
  },
  {
   "cell_type": "markdown",
   "metadata": {},
   "source": [
    "# Explore the Data"
   ]
  },
  {
   "cell_type": "code",
   "execution_count": 4,
   "metadata": {},
   "outputs": [
    {
     "name": "stdout",
     "output_type": "stream",
     "text": [
      "Number of Species: 7\n",
      "['Mammal' 'Bird' 'Reptile' 'Amphibian' 'Fish' 'Vascular Plant'\n",
      " 'Nonvascular Plant']\n",
      "category\n",
      "Amphibian              80\n",
      "Bird                  521\n",
      "Fish                  127\n",
      "Mammal                214\n",
      "Nonvascular Plant     333\n",
      "Reptile                79\n",
      "Vascular Plant       4470\n",
      "dtype: int64\n",
      "Species Category na values:0\n",
      "\n",
      "\n",
      "Conservation Status: 4\n",
      "[nan 'Species of Concern' 'Endangered' 'Threatened' 'In Recovery']\n",
      "conservation_status\n",
      "Endangered             16\n",
      "In Recovery             4\n",
      "Species of Concern    161\n",
      "Threatened             10\n",
      "dtype: int64\n",
      "Conservation Status na values:5633\n",
      "\n",
      "\n",
      "Scientific Names: 5541\n",
      "Scientific Names na values:0\n",
      "\n",
      "\n",
      "Common Names: 5504\n",
      "Common Names na values:0\n"
     ]
    }
   ],
   "source": [
    "#Species Dataframe\n",
    "print(f\"Number of Species: {species.category.nunique()}\")\n",
    "print(species.category.unique())\n",
    "print(species.groupby('category').size())\n",
    "print(f\"Species Category na values:{species.category.isnull().sum()}\")\n",
    "print('\\n')\n",
    "\n",
    "print(f\"Conservation Status: {species.conservation_status.nunique()}\")\n",
    "print(species.conservation_status.unique())\n",
    "print(species.groupby('conservation_status').size())\n",
    "print(f\"Conservation Status na values:{species.conservation_status.isnull().sum()}\")\n",
    "print('\\n')\n",
    "\n",
    "print(f\"Scientific Names: {species.scientific_name.nunique()}\")\n",
    "print(f\"Scientific Names na values:{species.scientific_name.isnull().sum()}\")\n",
    "print('\\n')\n",
    "\n",
    "print(f\"Common Names: {species.common_names.nunique()}\")\n",
    "print(f\"Common Names na values:{species.common_names.isnull().sum()}\")"
   ]
  },
  {
   "cell_type": "code",
   "execution_count": 5,
   "metadata": {},
   "outputs": [
    {
     "name": "stdout",
     "output_type": "stream",
     "text": [
      "Number of Parks: 4\n",
      "['Great Smoky Mountains National Park' 'Yosemite National Park'\n",
      " 'Bryce National Park' 'Yellowstone National Park']\n",
      "Park Name na values:0\n",
      "\n",
      "\n",
      "Scientific Names: 5541\n",
      "Scientific Name na values:0\n",
      "\n",
      "\n",
      "Observations: 304\n",
      "Total number of observations:3314739\n",
      "Observations na values:0\n"
     ]
    }
   ],
   "source": [
    "#Observations Dataframe\n",
    "print(f\"Number of Parks: {obs.park_name.nunique()}\")\n",
    "print(obs.park_name.unique())\n",
    "print(f\"Park Name na values:{obs.park_name.isnull().sum()}\")\n",
    "print('\\n')\n",
    "\n",
    "print(f\"Scientific Names: {obs.scientific_name.nunique()}\")\n",
    "print(f\"Scientific Name na values:{obs.scientific_name.isnull().sum()}\")\n",
    "print('\\n')\n",
    "\n",
    "print(f\"Observations: {obs.observations.nunique()}\")\n",
    "print(f\"Total number of observations:{obs.observations.sum()}\")\n",
    "print(f\"Observations na values:{obs.observations.isnull().sum()}\")"
   ]
  },
  {
   "cell_type": "markdown",
   "metadata": {},
   "source": [
    "### Exploration Overview\n",
    "\n",
    "This project explores two dataframes, obs from 'species_info.csv' and species from 'observations.csv'.\n",
    "\n",
    "Species contains 4 columns named 'category', 'scientific_name', 'common_names', and 'conservation_status' and 5824 rows of collected data. The 'category' column lists different species types, of which 7 are present in this dataset named 'Mammal', 'Bird', 'Reptile', 'Amphibian', 'Fish', 'Vascular Plant', and 'Nonvascular Plant'. The 'conservation_status' column sorts the animals into different levels of conservation concern named 'Endagered', 'In Recovery', 'Species of Concern', and 'Threatened'. 5633 values are Nan in the 'conservation_status' column, meaning they were likely unlabeled due to lack of conservational concern. This value will need to be changed for further analysis. The columns 'scientific_name' and 'common_names' list the scientific and common known names of the observed animals. The columns contain 5541 and 5504 unique observations, respectfully. There are no other null values present on this dataframe.\n",
    "\n",
    "Obs contains 3 columns named 'scientific_name', 'park_name', and 'observations', and 23296 rows of collected data. The 'park_name' column contains 4 total parks: 'Great Smoky Mountains National Park', 'Yosemite National Park', 'Bryce National Park', and 'Yellowstone National Park'. There are 5541 unique scientific names for observed animals across the parks. There are 304 unique observations and 3,314,739 total observations. No null values are present in this dataframe."
   ]
  },
  {
   "cell_type": "markdown",
   "metadata": {},
   "source": [
    "# Analysis"
   ]
  },
  {
   "cell_type": "code",
   "execution_count": 6,
   "metadata": {},
   "outputs": [
    {
     "data": {
      "text/plain": [
       "conservation_status\n",
       "Endangered              16\n",
       "In Recovery              4\n",
       "No Intervention       5633\n",
       "Species of Concern     161\n",
       "Threatened              10\n",
       "dtype: int64"
      ]
     },
     "execution_count": 6,
     "metadata": {},
     "output_type": "execute_result"
    }
   ],
   "source": [
    "#Clean and Tidy Data\n",
    "#Replace NaN Values (Conservation Status Only)\n",
    "species.fillna('No Intervention', inplace=True)\n",
    "species.groupby(\"conservation_status\").size()"
   ]
  },
  {
   "cell_type": "markdown",
   "metadata": {},
   "source": [
    "### Conservation Distribution"
   ]
  },
  {
   "cell_type": "code",
   "execution_count": 7,
   "metadata": {},
   "outputs": [
    {
     "data": {
      "text/html": [
       "<div>\n",
       "<style scoped>\n",
       "    .dataframe tbody tr th:only-of-type {\n",
       "        vertical-align: middle;\n",
       "    }\n",
       "\n",
       "    .dataframe tbody tr th {\n",
       "        vertical-align: top;\n",
       "    }\n",
       "\n",
       "    .dataframe thead th {\n",
       "        text-align: right;\n",
       "    }\n",
       "</style>\n",
       "<table border=\"1\" class=\"dataframe\">\n",
       "  <thead>\n",
       "    <tr style=\"text-align: right;\">\n",
       "      <th>category</th>\n",
       "      <th>Amphibian</th>\n",
       "      <th>Bird</th>\n",
       "      <th>Fish</th>\n",
       "      <th>Mammal</th>\n",
       "      <th>Nonvascular Plant</th>\n",
       "      <th>Reptile</th>\n",
       "      <th>Vascular Plant</th>\n",
       "    </tr>\n",
       "    <tr>\n",
       "      <th>conservation_status</th>\n",
       "      <th></th>\n",
       "      <th></th>\n",
       "      <th></th>\n",
       "      <th></th>\n",
       "      <th></th>\n",
       "      <th></th>\n",
       "      <th></th>\n",
       "    </tr>\n",
       "  </thead>\n",
       "  <tbody>\n",
       "    <tr>\n",
       "      <th>Endangered</th>\n",
       "      <td>1.0</td>\n",
       "      <td>4.0</td>\n",
       "      <td>3.0</td>\n",
       "      <td>7.0</td>\n",
       "      <td>NaN</td>\n",
       "      <td>NaN</td>\n",
       "      <td>1.0</td>\n",
       "    </tr>\n",
       "    <tr>\n",
       "      <th>In Recovery</th>\n",
       "      <td>NaN</td>\n",
       "      <td>3.0</td>\n",
       "      <td>NaN</td>\n",
       "      <td>1.0</td>\n",
       "      <td>NaN</td>\n",
       "      <td>NaN</td>\n",
       "      <td>NaN</td>\n",
       "    </tr>\n",
       "    <tr>\n",
       "      <th>Species of Concern</th>\n",
       "      <td>4.0</td>\n",
       "      <td>72.0</td>\n",
       "      <td>4.0</td>\n",
       "      <td>28.0</td>\n",
       "      <td>5.0</td>\n",
       "      <td>5.0</td>\n",
       "      <td>43.0</td>\n",
       "    </tr>\n",
       "    <tr>\n",
       "      <th>Threatened</th>\n",
       "      <td>2.0</td>\n",
       "      <td>NaN</td>\n",
       "      <td>4.0</td>\n",
       "      <td>2.0</td>\n",
       "      <td>NaN</td>\n",
       "      <td>NaN</td>\n",
       "      <td>2.0</td>\n",
       "    </tr>\n",
       "  </tbody>\n",
       "</table>\n",
       "</div>"
      ],
      "text/plain": [
       "category             Amphibian  Bird  Fish  Mammal  Nonvascular Plant  \\\n",
       "conservation_status                                                     \n",
       "Endangered                 1.0   4.0   3.0     7.0                NaN   \n",
       "In Recovery                NaN   3.0   NaN     1.0                NaN   \n",
       "Species of Concern         4.0  72.0   4.0    28.0                5.0   \n",
       "Threatened                 2.0   NaN   4.0     2.0                NaN   \n",
       "\n",
       "category             Reptile  Vascular Plant  \n",
       "conservation_status                           \n",
       "Endangered               NaN             1.0  \n",
       "In Recovery              NaN             NaN  \n",
       "Species of Concern       5.0            43.0  \n",
       "Threatened               NaN             2.0  "
      ]
     },
     "execution_count": 7,
     "metadata": {},
     "output_type": "execute_result"
    }
   ],
   "source": [
    "#Q1: What is the distribution of conservation status across species?\n",
    "#Create a table of each conservation status and the number of different species types within\n",
    "Statusby_species = species[species.conservation_status != \"No Intervention\"].groupby([\"conservation_status\", \"category\"])['scientific_name'].count().unstack()\n",
    "\n",
    "Statusby_species"
   ]
  },
  {
   "cell_type": "code",
   "execution_count": 30,
   "metadata": {},
   "outputs": [
    {
     "data": {
      "text/plain": [
       "Text(0, 0.5, 'Number of Species')"
      ]
     },
     "execution_count": 30,
     "metadata": {},
     "output_type": "execute_result"
    },
    {
     "data": {
      "image/png": "[encoded data removed]",
      "text/plain": [
       "<Figure size 576x432 with 1 Axes>"
      ]
     },
     "metadata": {
      "needs_background": "light"
     },
     "output_type": "display_data"
    }
   ],
   "source": [
    "#Create a chart reflecting/using the data above\n",
    "ax = Statusby_species.plot(kind = 'bar', figsize=(8,6), stacked=True)\n",
    "plt.title('Conservation Status Across Species')\n",
    "plt.xticks(rotation = 45)\n",
    "ax.set_xlabel(\"Conservation Status\")\n",
    "ax.set_ylabel(\"Number of Species\")"
   ]
  },
  {
   "cell_type": "markdown",
   "metadata": {},
   "source": [
    "### Species and Consvervation Status"
   ]
  },
  {
   "cell_type": "code",
   "execution_count": 9,
   "metadata": {},
   "outputs": [
    {
     "data": {
      "text/html": [
       "<div>\n",
       "<style scoped>\n",
       "    .dataframe tbody tr th:only-of-type {\n",
       "        vertical-align: middle;\n",
       "    }\n",
       "\n",
       "    .dataframe tbody tr th {\n",
       "        vertical-align: top;\n",
       "    }\n",
       "\n",
       "    .dataframe thead th {\n",
       "        text-align: right;\n",
       "    }\n",
       "</style>\n",
       "<table border=\"1\" class=\"dataframe\">\n",
       "  <thead>\n",
       "    <tr style=\"text-align: right;\">\n",
       "      <th></th>\n",
       "      <th>category</th>\n",
       "      <th>not_protected</th>\n",
       "      <th>protected</th>\n",
       "    </tr>\n",
       "  </thead>\n",
       "  <tbody>\n",
       "    <tr>\n",
       "      <th>0</th>\n",
       "      <td>Amphibian</td>\n",
       "      <td>72</td>\n",
       "      <td>7</td>\n",
       "    </tr>\n",
       "    <tr>\n",
       "      <th>1</th>\n",
       "      <td>Bird</td>\n",
       "      <td>413</td>\n",
       "      <td>75</td>\n",
       "    </tr>\n",
       "    <tr>\n",
       "      <th>2</th>\n",
       "      <td>Fish</td>\n",
       "      <td>115</td>\n",
       "      <td>11</td>\n",
       "    </tr>\n",
       "    <tr>\n",
       "      <th>3</th>\n",
       "      <td>Mammal</td>\n",
       "      <td>146</td>\n",
       "      <td>30</td>\n",
       "    </tr>\n",
       "    <tr>\n",
       "      <th>4</th>\n",
       "      <td>Nonvascular Plant</td>\n",
       "      <td>328</td>\n",
       "      <td>5</td>\n",
       "    </tr>\n",
       "    <tr>\n",
       "      <th>5</th>\n",
       "      <td>Reptile</td>\n",
       "      <td>73</td>\n",
       "      <td>5</td>\n",
       "    </tr>\n",
       "    <tr>\n",
       "      <th>6</th>\n",
       "      <td>Vascular Plant</td>\n",
       "      <td>4216</td>\n",
       "      <td>46</td>\n",
       "    </tr>\n",
       "  </tbody>\n",
       "</table>\n",
       "</div>"
      ],
      "text/plain": [
       "            category  not_protected  protected\n",
       "0          Amphibian             72          7\n",
       "1               Bird            413         75\n",
       "2               Fish            115         11\n",
       "3             Mammal            146         30\n",
       "4  Nonvascular Plant            328          5\n",
       "5            Reptile             73          5\n",
       "6     Vascular Plant           4216         46"
      ]
     },
     "execution_count": 9,
     "metadata": {},
     "output_type": "execute_result"
    }
   ],
   "source": [
    "#Q2: Are certain species more likely to face endangerment than others?\n",
    "#Q3 Is there a significant difference between species and their conservation status?\n",
    "species['is_protected'] = species.conservation_status != 'No Intervention'\n",
    "category_counts = species.groupby(['category', 'is_protected']).scientific_name.nunique().reset_index().pivot(columns='is_protected',index='category',values='scientific_name').reset_index()\n",
    "category_counts.columns = ['category', 'not_protected', 'protected']\n",
    "\n",
    "category_counts"
   ]
  },
  {
   "cell_type": "code",
   "execution_count": 10,
   "metadata": {},
   "outputs": [
    {
     "data": {
      "text/plain": [
       "Text(0, 0.5, 'Protection Status')"
      ]
     },
     "execution_count": 10,
     "metadata": {},
     "output_type": "execute_result"
    },
    {
     "data": {
      "image/png": "[encoded data removed]",
      "text/plain": [
       "<Figure size 432x288 with 1 Axes>"
      ]
     },
     "metadata": {
      "needs_background": "light"
     },
     "output_type": "display_data"
    }
   ],
   "source": [
    "#ax = category_counts.plot(kind = 'bar', figsize=(8,6), stacked=True)\n",
    "X_axis = np.arange(len(category_counts.category))\n",
    "  \n",
    "plt.bar(X_axis - 0.2, category_counts.not_protected, 0.4, label = 'Not Protected')\n",
    "plt.bar(X_axis + 0.2, category_counts.protected, 0.4, label = 'Protected')\n",
    "plt.legend()\n",
    "plt.title('Protected vs Unprotected by Species Category')\n",
    "plt.xticks(X_axis, category_counts.category, rotation = 45)\n",
    "plt.xlabel(\"Species Category\")\n",
    "plt.ylabel('Protection Status')"
   ]
  },
  {
   "cell_type": "code",
   "execution_count": 11,
   "metadata": {},
   "outputs": [
    {
     "data": {
      "text/html": [
       "<div>\n",
       "<style scoped>\n",
       "    .dataframe tbody tr th:only-of-type {\n",
       "        vertical-align: middle;\n",
       "    }\n",
       "\n",
       "    .dataframe tbody tr th {\n",
       "        vertical-align: top;\n",
       "    }\n",
       "\n",
       "    .dataframe thead th {\n",
       "        text-align: right;\n",
       "    }\n",
       "</style>\n",
       "<table border=\"1\" class=\"dataframe\">\n",
       "  <thead>\n",
       "    <tr style=\"text-align: right;\">\n",
       "      <th></th>\n",
       "      <th>category</th>\n",
       "      <th>not_protected</th>\n",
       "      <th>protected</th>\n",
       "      <th>percent_protected</th>\n",
       "    </tr>\n",
       "  </thead>\n",
       "  <tbody>\n",
       "    <tr>\n",
       "      <th>0</th>\n",
       "      <td>Amphibian</td>\n",
       "      <td>72</td>\n",
       "      <td>7</td>\n",
       "      <td>8.860759</td>\n",
       "    </tr>\n",
       "    <tr>\n",
       "      <th>1</th>\n",
       "      <td>Bird</td>\n",
       "      <td>413</td>\n",
       "      <td>75</td>\n",
       "      <td>15.368852</td>\n",
       "    </tr>\n",
       "    <tr>\n",
       "      <th>2</th>\n",
       "      <td>Fish</td>\n",
       "      <td>115</td>\n",
       "      <td>11</td>\n",
       "      <td>8.730159</td>\n",
       "    </tr>\n",
       "    <tr>\n",
       "      <th>3</th>\n",
       "      <td>Mammal</td>\n",
       "      <td>146</td>\n",
       "      <td>30</td>\n",
       "      <td>17.045455</td>\n",
       "    </tr>\n",
       "    <tr>\n",
       "      <th>4</th>\n",
       "      <td>Nonvascular Plant</td>\n",
       "      <td>328</td>\n",
       "      <td>5</td>\n",
       "      <td>1.501502</td>\n",
       "    </tr>\n",
       "    <tr>\n",
       "      <th>5</th>\n",
       "      <td>Reptile</td>\n",
       "      <td>73</td>\n",
       "      <td>5</td>\n",
       "      <td>6.410256</td>\n",
       "    </tr>\n",
       "    <tr>\n",
       "      <th>6</th>\n",
       "      <td>Vascular Plant</td>\n",
       "      <td>4216</td>\n",
       "      <td>46</td>\n",
       "      <td>1.079305</td>\n",
       "    </tr>\n",
       "  </tbody>\n",
       "</table>\n",
       "</div>"
      ],
      "text/plain": [
       "            category  not_protected  protected  percent_protected\n",
       "0          Amphibian             72          7           8.860759\n",
       "1               Bird            413         75          15.368852\n",
       "2               Fish            115         11           8.730159\n",
       "3             Mammal            146         30          17.045455\n",
       "4  Nonvascular Plant            328          5           1.501502\n",
       "5            Reptile             73          5           6.410256\n",
       "6     Vascular Plant           4216         46           1.079305"
      ]
     },
     "execution_count": 11,
     "metadata": {},
     "output_type": "execute_result"
    }
   ],
   "source": [
    "category_counts['percent_protected'] = category_counts.protected / (category_counts.protected + category_counts.not_protected) * 100\n",
    "\n",
    "category_counts"
   ]
  },
  {
   "cell_type": "code",
   "execution_count": 12,
   "metadata": {},
   "outputs": [
    {
     "data": {
      "text/plain": [
       "Text(0, 0.5, 'Percent Protected')"
      ]
     },
     "execution_count": 12,
     "metadata": {},
     "output_type": "execute_result"
    },
    {
     "data": {
      "image/png": "[encoded data removed]",
      "text/plain": [
       "<Figure size 576x432 with 1 Axes>"
      ]
     },
     "metadata": {
      "needs_background": "light"
     },
     "output_type": "display_data"
    }
   ],
   "source": [
    "ax = category_counts.plot(kind = 'bar', x = 'category', y = 'percent_protected', figsize=(8,6))\n",
    "plt.title('Percent Protected by Species Category')\n",
    "plt.xticks(rotation = 45)\n",
    "ax.set_xlabel(\"Species Category\")\n",
    "ax.set_ylabel(\"Percent Protected\")"
   ]
  },
  {
   "cell_type": "markdown",
   "metadata": {},
   "source": [
    "### Statistical Significance"
   ]
  },
  {
   "cell_type": "code",
   "execution_count": 26,
   "metadata": {},
   "outputs": [
    {
     "name": "stdout",
     "output_type": "stream",
     "text": [
      "(0.1617014831654557, 0.6875948096661336, 1, array([[ 27.8313253, 148.1686747],\n",
      "       [ 77.1686747, 410.8313253]]))\n",
      "\n",
      "Protection Needed Mammal vs. Bird\n",
      "\n",
      " p-value: 0.69, much higher than the statistical significance standard of 0.5. This indicates no statistically significant relationship between the consvervation status of birds and mammals.\n"
     ]
    },
    {
     "data": {
      "image/png": "[encoded data removed]",
      "text/plain": [
       "<Figure size 864x576 with 2 Axes>"
      ]
     },
     "metadata": {
      "needs_background": "light"
     },
     "output_type": "display_data"
    }
   ],
   "source": [
    "#Contigency table and chi square mammal vs bird\n",
    "c_table1 = [[30,146], [75, 413]]\n",
    "print(chi2_contingency(c_table1))\n",
    "print('\\nProtection Needed Mammal vs. Bird')\n",
    "\n",
    "#Heatmap of c_table1 data\n",
    "plt.figure(figsize=(12,8)) \n",
    "sns.heatmap(c_table1, annot=True, cmap=\"YlGnBu\")\n",
    "print('\\n p-value: 0.69, much higher than the statistical significance standard of 0.5. This indicates no statistically significant relationship between the consvervation status of birds and mammals.')"
   ]
  },
  {
   "cell_type": "code",
   "execution_count": 27,
   "metadata": {},
   "outputs": [
    {
     "name": "stdout",
     "output_type": "stream",
     "text": [
      "(4.289183096203645, 0.03835559022969898, 1, array([[ 24.2519685, 151.7480315],\n",
      "       [ 10.7480315,  67.2519685]]))\n",
      "\n",
      "Protection Needed Mammal vs. Reptile\n",
      "\n",
      " p-value: 0.39, below the statistical significance standard of 0.5. This indicates a statistically significant relationship between the consvervation status of reptiles and mammals. Mammals have a much higher rate of conservation needed than reptiles.\n"
     ]
    },
    {
     "data": {
      "image/png": "[encoded data removed]",
      "text/plain": [
       "<Figure size 864x576 with 2 Axes>"
      ]
     },
     "metadata": {
      "needs_background": "light"
     },
     "output_type": "display_data"
    }
   ],
   "source": [
    "#Contigency table and chi square mammal vs reptile\n",
    "c_table2 = [[30,146], [5, 73]]\n",
    "print(chi2_contingency(c_table2))\n",
    "print('\\nProtection Needed Mammal vs. Reptile')\n",
    "\n",
    "#Heatmap of c_table2 data\n",
    "plt.figure(figsize=(12,8)) \n",
    "sns.heatmap(c_table2, annot=True, cmap=\"YlGnBu\")\n",
    "print('\\n p-value: 0.39, below the statistical significance standard of 0.5. This indicates a statistically significant relationship between the consvervation status of reptiles and mammals. Mammals have a much higher rate of conservation needed than reptiles.')"
   ]
  },
  {
   "cell_type": "markdown",
   "metadata": {},
   "source": [
    "### Animal Observation Distribution Across Parks"
   ]
  },
  {
   "cell_type": "code",
   "execution_count": 29,
   "metadata": {},
   "outputs": [],
   "source": [
    "#Q4 What animal, if any, appears to be closest to facing exctinction at this time? What is it's distribution across parks?\n",
    "#Q5 Is there an animal that is more prevelant than others? Does this prevelance differ across parks?"
   ]
  }
 ],
 "metadata": {
  "kernelspec": {
   "display_name": "Python 3 (ipykernel)",
   "language": "python",
   "name": "python3"
  },
  "language_info": {
   "codemirror_mode": {
    "name": "ipython",
    "version": 3
   },
   "file_extension": ".py",
   "mimetype": "text/x-python",
   "name": "python",
   "nbconvert_exporter": "python",
   "pygments_lexer": "ipython3",
   "version": "3.9.12"
  }
 },
 "nbformat": 4,
 "nbformat_minor": 4
}
