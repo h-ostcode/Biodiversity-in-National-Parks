{
 "cells": [
  {
   "cell_type": "markdown",
   "metadata": {},
   "source": [
    "# Introduction\n",
    "\n",
    "This Biodiversity in National Parks Project aims to analyze multiple data sources to determine patterns and relationships between species conservation status and their sightings at major national parks in the United States. \n",
    "\n",
    "This project will scope, analyze, plot, and evaluate the data to provide information necessary to answer the questions below:\n",
    "\n",
    "1. What is the distribution of conservation status across species?\n",
    "2. Are certain species more likely to face endangerment than others?\n",
    "3. Is there a significant difference between species and their conservation status?\n",
    "4. What animal, if any, appears to be closest to facing exctinction at this time? What is it's distribution across parks?\n",
    "5. Is there an animal that is more prevelant than others? Does this prevelance differ across parks?\n",
    " \n",
    "Upon answering these questions, this project will address potential issues with the data and findings, as well as open discussion for improvements and future questions that can be answered with further data collection and analysis.\n",
    "\n",
    "### Data\n",
    "\n",
    "Provided by [Codecademy.com](https://www.codecademy.com/)\n",
    "1. observations.csv\n",
    "2. species_info.csv"
   ]
  },
  {
   "cell_type": "markdown",
   "metadata": {},
   "source": [
    "# Scope\n",
    "The project scope serves as a roadmap to guide the project's progress and the reader's understanding of it's goals and findings. The scope of this project has been broken down into four sections:\n",
    "1. **Goals** - Define project objectives, potential problems and the actions needed to achieve and overcome them respectfully.\n",
    "2. **Data** - Identify data and if it is relevant to achieve project goals. Address any concerns for reliability or needs for further data to augment future research.\n",
    "3. **Analysis** - Determine how data will be analyzed, including methods used and plans for validating analysis to answer questions. \n",
    "4. **Evaluation** - Review analysis to build conclusions and discuss findings. \n",
    "\n",
    "## Goals\n",
    "The main objective of this project is to provide insights about endagered species to the National Parks Service to aid in their efforts for biodiversity conservation. Analyst objectives include understanding the characteristics of different species/animals and their conservation status and how that compares to their distribution across the different parks.\n",
    "\n",
    "Questions this project aims to answer include:\n",
    "1. What is the distribution of conservation status across species?\n",
    "2. Are certain species more likely to face endangerment than others?\n",
    "3. Is there a significant difference between species and their conservation status?\n",
    "4. What animal, if any, appears to be closest to facing exctinction at this time? What is it's distribution across parks?\n",
    "5. Is there an animal that is more prevelant than others? Does this prevelance differ across parks?\n",
    "\n",
    "## Data\n",
    "This project includes two provided datasets. The first, observations.csv, lists the number of observations of an animal (by it's scientific name) in each national park over the last 7 days. The second, species_info.csv, includes the conservation status of different animals, both their common and scientific names, and the species they belong to. \n",
    "\n",
    "## Analysis\n",
    "Using descriptive summary statistics and visualization techniques, this section will explore the provided data to detect patterns, uncover relationships, and provide a better understanding of the data. Statistical inference will be used to determine if the values are statistically significant to support any final conclusions. \n",
    "\n",
    "Key metrics to compute include:\n",
    "1. Counts\n",
    "2. Distributions\n",
    "3. Conservation status of each species\n",
    "4. Relationships between species (if any)\n",
    "5. Observations of species in each park\n",
    "\n",
    "## Evaluation\n",
    "This section will revisit original goals and questions and compare to the final analysis to determine if our findings support our original objectives. Final conclusions and reflections will be drafted here. In addition, any concerns over accuracy or potential for augmentation and future research will be addressed. "
   ]
  },
  {
   "cell_type": "code",
   "execution_count": 1,
   "metadata": {},
   "outputs": [],
   "source": [
    "#import Python libraries and modules\n",
    "import pandas as pd\n",
    "import numpy as np\n",
    "\n",
    "from matplotlib import pyplot as plt\n",
    "import seaborn as sns\n",
    "\n",
    "#inline lead to static images of your plot embedded in the notebook, \n",
    "#notebook will lead to interactive plots (see below)\n",
    "%matplotlib inline"
   ]
  },
  {
   "cell_type": "code",
   "execution_count": 5,
   "metadata": {},
   "outputs": [
    {
     "name": "stdout",
     "output_type": "stream",
     "text": [
      "            scientific_name                            park_name  observations\n",
      "0        Vicia benghalensis  Great Smoky Mountains National Park            68\n",
      "1            Neovison vison  Great Smoky Mountains National Park            77\n",
      "2         Prunus subcordata               Yosemite National Park           138\n",
      "3      Abutilon theophrasti                  Bryce National Park            84\n",
      "4  Githopsis specularioides  Great Smoky Mountains National Park            85\n",
      "\n",
      "\n",
      "  category                scientific_name  \\\n",
      "0   Mammal  Clethrionomys gapperi gapperi   \n",
      "1   Mammal                      Bos bison   \n",
      "2   Mammal                     Bos taurus   \n",
      "3   Mammal                     Ovis aries   \n",
      "4   Mammal                 Cervus elaphus   \n",
      "\n",
      "                                        common_names conservation_status  \n",
      "0                           Gapper's Red-Backed Vole                 NaN  \n",
      "1                              American Bison, Bison                 NaN  \n",
      "2  Aurochs, Aurochs, Domestic Cattle (Feral), Dom...                 NaN  \n",
      "3  Domestic Sheep, Mouflon, Red Sheep, Sheep (Feral)                 NaN  \n",
      "4                                      Wapiti Or Elk                 NaN  \n"
     ]
    }
   ],
   "source": [
    "#load two provided datasets (csv) into dataframes\n",
    "obs_df = pd.read_csv('observations.csv')\n",
    "species_df = pd.read_csv('species_info.csv')\n",
    "print(obs_df.head(5))\n",
    "print('\\n')\n",
    "print(species_df.head(5))"
   ]
  },
  {
   "cell_type": "code",
   "execution_count": null,
   "metadata": {},
   "outputs": [],
   "source": []
  }
 ],
 "metadata": {
  "kernelspec": {
   "display_name": "Python 3 (ipykernel)",
   "language": "python",
   "name": "python3"
  },
  "language_info": {
   "codemirror_mode": {
    "name": "ipython",
    "version": 3
   },
   "file_extension": ".py",
   "mimetype": "text/x-python",
   "name": "python",
   "nbconvert_exporter": "python",
   "pygments_lexer": "ipython3",
   "version": "3.9.12"
  }
 },
 "nbformat": 4,
 "nbformat_minor": 4
}
